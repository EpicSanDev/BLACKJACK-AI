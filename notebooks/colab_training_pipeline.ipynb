{
  "cells": [
    {
      "cell_type": "markdown",
      "metadata": {},
      "source": [
        "# Blackjack AI - Entrainement sur Google Colab\n",
        "\n",
        "Ce notebook rassemble les scripts du depot pour generer les donnees synthetiques et entrainer le detecteur YOLOv8 directement dans un runtime Google Colab."
      ]
    },
    {
      "cell_type": "markdown",
      "metadata": {},
      "source": [
        "## Prerequis\n",
        "- Ouvrez ce notebook dans Google Colab et activez un runtime GPU (Execution > Modifier le type de l environnement d execution).\n",
        "- Facultatif : montez Google Drive pour sauvegarder les runs et checkpoints.\n",
        "- Facultatif : preparez vos identifiants Kaggle (`KAGGLE_USERNAME`, `KAGGLE_KEY`) si vous souhaitez importer les jeux de donnees externes."
      ]
    },
    {
      "cell_type": "code",
      "execution_count": null,
      "metadata": {},
      "outputs": [],
      "source": [
        "import os\n",
        "import sys\n",
        "import subprocess\n",
        "from pathlib import Path\n",
        "\n",
        "IN_COLAB = \"google.colab\" in sys.modules\n",
        "WORKSPACE_ROOT = Path(\"/content\") if IN_COLAB else Path.cwd()\n",
        "if (WORKSPACE_ROOT / \".git\").exists():\n",
        "    PROJECT_ROOT = WORKSPACE_ROOT\n",
        "else:\n",
        "    PROJECT_ROOT = WORKSPACE_ROOT / \"BLACKJACK-AI\"\n",
        "\n",
        "print(f\"Execution dans Colab : {IN_COLAB}\")\n",
        "print(f\"Version Python     : {sys.version.split()[0]}\")\n",
        "print(f\"Dossier de travail : {PROJECT_ROOT}\")\n",
        "\n",
        "def run(cmd, cwd=None, check=True):\n",
        "    if cwd is None:\n",
        "        cwd = PROJECT_ROOT if PROJECT_ROOT.exists() else None\n",
        "    pretty = \" \".join(str(part) for part in cmd)\n",
        "    print(f\"$ {pretty}\")\n",
        "    return subprocess.run(cmd, cwd=cwd, check=check)"
      ]
    },
    {
      "cell_type": "code",
      "execution_count": null,
      "metadata": {},
      "outputs": [],
      "source": [
        "try:\n",
        "    gpu_probe = run([\"nvidia-smi\"], check=False)\n",
        "    if gpu_probe.returncode != 0:\n",
        "        print(\"GPU non detecte ou commande nvidia-smi indisponible.\")\n",
        "except FileNotFoundError:\n",
        "    print(\"Commande nvidia-smi introuvable.\")"
      ]
    },
    {
      "cell_type": "markdown",
      "metadata": {},
      "source": [
        "## Sauvegarder les sorties (optionnel)\n",
        "Activez le montage Google Drive si vous souhaitez conserver les runs et checkpoints hors de la session Colab ephemere."
      ]
    },
    {
      "cell_type": "code",
      "execution_count": null,
      "metadata": {},
      "outputs": [],
      "source": [
        "MOUNT_DRIVE = False  # passez a True pour enregistrer les sorties dans Google Drive\n",
        "DRIVE_PATH = Path(\"/content/drive\")\n",
        "OUTPUT_BASE = None\n",
        "\n",
        "if MOUNT_DRIVE and IN_COLAB:\n",
        "    from google.colab import drive  # type: ignore\n",
        "    drive.mount(str(DRIVE_PATH))\n",
        "    OUTPUT_BASE = DRIVE_PATH / \"MyDrive\" / \"blackjack_ai\"\n",
        "    OUTPUT_BASE.mkdir(parents=True, exist_ok=True)\n",
        "    print(f\"Les sorties seront sauvegardees dans {OUTPUT_BASE}\")\n",
        "else:\n",
        "    print(\"Montage Drive ignore. Les sorties resteront dans le dossier local.\")"
      ]
    },
    {
      "cell_type": "markdown",
      "metadata": {},
      "source": [
        "## Recuperer le depot"
      ]
    },
    {
      "cell_type": "code",
      "execution_count": null,
      "metadata": {},
      "outputs": [],
      "source": [
        "REPO_URL = \"https://github.com/EpicSanDev/BLACKJACK-AI.git\"\n",
        "\n",
        "if PROJECT_ROOT.exists() and (PROJECT_ROOT / \".git\").exists():\n",
        "    print(\"Depot deja present, on continue.\")\n",
        "else:\n",
        "    PROJECT_ROOT.parent.mkdir(parents=True, exist_ok=True)\n",
        "    run([\"git\", \"clone\", REPO_URL, str(PROJECT_ROOT)], cwd=PROJECT_ROOT.parent)\n",
        "\n",
        "os.chdir(PROJECT_ROOT)\n",
        "print(f\"Repertoire actif : {Path.cwd()}\")"
      ]
    },
    {
      "cell_type": "markdown",
      "metadata": {},
      "source": [
        "## Installer les dependances"
      ]
    },
    {
      "cell_type": "code",
      "execution_count": null,
      "metadata": {},
      "outputs": [],
      "source": [
        "BASE_PACKAGES = [\n",
        "    \"ultralytics>=8.1.0\",\n",
        "    \"opencv-python-headless\",\n",
        "    \"numpy\",\n",
        "    \"Flask\",\n",
        "    \"mss\",\n",
        "    \"requests\",\n",
        "    \"pygame\",\n",
        "    \"pyyaml\",\n",
        "    \"kaggle\",\n",
        "    \"tqdm\",\n",
        "]\n",
        "\n",
        "run([\"pip\", \"install\", \"--upgrade\", \"pip\"])\n",
        "run([\"pip\", \"install\"] + BASE_PACKAGES)\n",
        "\n",
        "INSTALL_TORCH = False  # passez a True pour forcer une version CUDA specifique\n",
        "if INSTALL_TORCH:\n",
        "    TORCH_INDEX_URL = \"https://download.pytorch.org/whl/cu121\"\n",
        "    run([\n",
        "        \"pip\",\n",
        "        \"install\",\n",
        "        \"torch\",\n",
        "        \"torchvision\",\n",
        "        \"torchaudio\",\n",
        "        \"--index-url\",\n",
        "        TORCH_INDEX_URL,\n",
        "    ])"
      ]
    },
    {
      "cell_type": "code",
      "execution_count": null,
      "metadata": {},
      "outputs": [],
      "source": [
        "import torch\n",
        "\n",
        "device = \"0\" if torch.cuda.is_available() else \"cpu\"\n",
        "print(f\"torch version : {torch.__version__}\")\n",
        "print(f\"CUDA disponible : {torch.cuda.is_available()}\")\n",
        "print(f\"Device utilise pour l entrainement : {device}\")"
      ]
    },
    {
      "cell_type": "markdown",
      "metadata": {},
      "source": [
        "## Importer les jeux de donnees Kaggle (optionnel)"
      ]
    },
    {
      "cell_type": "code",
      "execution_count": null,
      "metadata": {},
      "outputs": [],
      "source": [
        "USE_KAGGLE = False  # passez a True puis renseignez vos identifiants\n",
        "if USE_KAGGLE:\n",
        "    os.environ[\"KAGGLE_USERNAME\"] = \"votre_identifiant\"\n",
        "    os.environ[\"KAGGLE_KEY\"] = \"votre_cle\"\n",
        "    print(\"Identifiants Kaggle charges.\")\n",
        "else:\n",
        "    print(\"Kaggle desactive. Modifiez USE_KAGGLE si necessaire.\")"
      ]
    },
    {
      "cell_type": "code",
      "execution_count": null,
      "metadata": {},
      "outputs": [],
      "source": [
        "RUN_KAGGLE_STEPS = False  # passez a True pour telecharger et convertir les datasets Kaggle\n",
        "\n",
        "if RUN_KAGGLE_STEPS:\n",
        "    if not USE_KAGGLE:\n",
        "        raise RuntimeError(\"Activez USE_KAGGLE avant de lancer le telechargement.\")\n",
        "    try:\n",
        "        run([\"python\", \"tools/download_kaggle_datasets.py\", \"--force\"], cwd=PROJECT_ROOT)\n",
        "        run([\"python\", \"tools/prepare_kaggle_cards.py\", \"--overwrite\"], cwd=PROJECT_ROOT)\n",
        "        from tools.one_click_pipeline import determine_blackjack_hands_input\n",
        "        blackjack_input = determine_blackjack_hands_input()\n",
        "        if blackjack_input is None:\n",
        "            raise RuntimeError(\"Aucun fichier blackjack_hands.* detecte. Verifiez le telechargement Kaggle ou fournissez --input.\")\n",
        "        run(\n",
        "            [\n",
        "                \"python\",\n",
        "                \"tools/prepare_blackjack_hands.py\",\n",
        "                \"--sample\",\n",
        "                \"0.05\",\n",
        "                \"--input\",\n",
        "                str(blackjack_input),\n",
        "            ],\n",
        "            cwd=PROJECT_ROOT,\n",
        "        )\n",
        "    except subprocess.CalledProcessError as exc:\n",
        "        print(f\"Erreur pendant l'etape Kaggle: {exc}\")\n",
        "        raise\n",
        "else:\n",
        "    print(\"Etapes Kaggle ignorees.\")\n"
      ]
    },
    {
      "cell_type": "markdown",
      "metadata": {},
      "source": [
        "## Configurer et lancer l entrainement"
      ]
    },
    {
      "cell_type": "code",
      "execution_count": null,
      "metadata": {},
      "outputs": [],
      "source": [
        "TRAIN_NUM_IMAGES = 4000\n",
        "TRAIN_EPOCHS = 150\n",
        "TRAIN_BATCH = 24\n",
        "TRAIN_IMGSZ = 960\n",
        "TRAIN_NAME = \"colab_blackjack\"\n",
        "USE_CACHE = False\n",
        "REUSE_EXISTING = False  # True pour reutiliser dataset/train et dataset/val existants\n",
        "ENABLE_AUGMENT = True\n",
        "\n",
        "runs_base = (OUTPUT_BASE / \"runs\") if OUTPUT_BASE else (PROJECT_ROOT / \"runs\")\n",
        "project_path = runs_base / \"detector\"\n",
        "project_path.mkdir(parents=True, exist_ok=True)\n",
        "\n",
        "train_args = {\n",
        "    \"--num-images\": str(TRAIN_NUM_IMAGES),\n",
        "    \"--epochs\": str(TRAIN_EPOCHS),\n",
        "    \"--batch\": str(TRAIN_BATCH),\n",
        "    \"--imgsz\": str(TRAIN_IMGSZ),\n",
        "    \"--weights\": str(PROJECT_ROOT / \"yolov8n.pt\"),\n",
        "    \"--project\": str(project_path),\n",
        "    \"--name\": TRAIN_NAME,\n",
        "    \"--patience\": \"60\",\n",
        "    \"--workers\": \"2\",\n",
        "    \"--device\": device,\n",
        "}\n",
        "\n",
        "import torch\n",
        "if train_args[\"--device\"] != \"cpu\" and not torch.cuda.is_available():\n",
        "    print(\"GPU non detecte, basculement automatique sur le mode CPU.\")\n",
        "    train_args[\"--device\"] = \"cpu\"\n",
        "\n",
        "cmd = [\"python\", \"model/train_model.py\"]\n",
        "for key, value in train_args.items():\n",
        "    if value is None:\n",
        "        continue\n",
        "    cmd.extend([key, str(value)])\n",
        "\n",
        "if USE_CACHE:\n",
        "    cmd.append(\"--cache-images\")\n",
        "if not ENABLE_AUGMENT:\n",
        "    cmd.append(\"--no-augment\")\n",
        "if REUSE_EXISTING:\n",
        "    cmd.append(\"--no-regenerate\")\n",
        "if not RUN_KAGGLE_STEPS:\n",
        "    cmd.append(\"--no-kaggle-cards\")\n",
        "\n",
        "train_process = run(cmd, cwd=PROJECT_ROOT)\n",
        "if train_process.returncode != 0:\n",
        "    raise RuntimeError(\"L entrainement s est termine avec un code de retour non nul.\")"
      ]
    },
    {
      "cell_type": "markdown",
      "metadata": {},
      "source": [
        "## Inspecter les resultats"
      ]
    },
    {
      "cell_type": "code",
      "execution_count": null,
      "metadata": {},
      "outputs": [],
      "source": [
        "runs_root = Path(train_args[\"--project\"]).resolve()\n",
        "if not runs_root.exists():\n",
        "    raise FileNotFoundError(f\"Le dossier des runs est introuvable: {runs_root}\")\n",
        "\n",
        "run_dirs = sorted(\n",
        "    [p for p in runs_root.iterdir() if p.is_dir()],\n",
        "    key=lambda p: p.stat().st_mtime,\n",
        "    reverse=True,\n",
        ")\n",
        "if not run_dirs:\n",
        "    raise RuntimeError(\"Aucun run detecte dans le dossier selectionne.\")\n",
        "\n",
        "latest_run = run_dirs[0]\n",
        "print(f\"Dernier run : {latest_run}\")\n",
        "\n",
        "results_png = latest_run / \"results.png\"\n",
        "if results_png.exists():\n",
        "    from IPython.display import Image, display\n",
        "\n",
        "    display(Image(filename=str(results_png)))\n",
        "else:\n",
        "    print(\"Pas de results.png a afficher.\")\n",
        "\n",
        "metrics_csv = latest_run / \"results.csv\"\n",
        "if metrics_csv.exists():\n",
        "    with metrics_csv.open(\"r\", encoding=\"utf-8\") as fh:\n",
        "        rows = fh.readlines()\n",
        "    print(\"Dernieres lignes de results.csv :\")\n",
        "    for line in rows[-10:]:\n",
        "        print(line.strip())\n",
        "else:\n",
        "    print(\"Pas de results.csv a analyser.\")"
      ]
    },
    {
      "cell_type": "markdown",
      "metadata": {},
      "source": [
        "## Apercu d une inference sur un echantillon"
      ]
    },
    {
      "cell_type": "code",
      "execution_count": null,
      "metadata": {},
      "outputs": [],
      "source": [
        "from ultralytics import YOLO\n",
        "import random\n",
        "from IPython.display import Image, display\n",
        "\n",
        "weights_path = latest_run / \"weights\" / \"best.pt\"\n",
        "if not weights_path.exists():\n",
        "    raise FileNotFoundError(f\"best.pt introuvable dans {latest_run / 'weights'}\")\n",
        "\n",
        "model = YOLO(str(weights_path))\n",
        "\n",
        "val_dir = PROJECT_ROOT / \"dataset\" / \"val\"\n",
        "candidates = sorted(val_dir.glob(\"*.png\"))\n",
        "if not candidates:\n",
        "    raise FileNotFoundError(\"Aucune image dans dataset/val pour la demonstration.\")\n",
        "\n",
        "sample_path = random.choice(candidates)\n",
        "print(f\"Inference sur : {sample_path}\")\n",
        "\n",
        "preview_dir = latest_run / \"preview\"\n",
        "preview_dir.mkdir(parents=True, exist_ok=True)\n",
        "\n",
        "model.predict(\n",
        "    source=str(sample_path),\n",
        "    imgsz=TRAIN_IMGSZ,\n",
        "    conf=0.25,\n",
        "    device=device,\n",
        "    save=True,\n",
        "    project=str(latest_run),\n",
        "    name=\"preview\",\n",
        "    exist_ok=True,\n",
        ")\n",
        "\n",
        "preview_images = sorted(preview_dir.glob(\"*.jpg\")) + sorted(preview_dir.glob(\"*.png\"))\n",
        "if preview_images:\n",
        "    display(Image(filename=str(preview_images[0])))\n",
        "else:\n",
        "    print(\"Aucune image de preview generee.\")"
      ]
    }
  ],
  "metadata": {
    "kernelspec": {
      "display_name": "Python 3",
      "language": "python",
      "name": "python3"
    },
    "language_info": {
      "name": "python"
    }
  },
  "nbformat": 4,
  "nbformat_minor": 5
}
